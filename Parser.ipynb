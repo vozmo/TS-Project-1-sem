{
 "cells": [
  {
   "cell_type": "markdown",
   "metadata": {},
   "source": [
    "Скачивание и парсинг данных о книгах и читателях с сайта www.livelib.ru"
   ]
  },
  {
   "cell_type": "code",
   "execution_count": 17,
   "metadata": {},
   "outputs": [],
   "source": [
    "import numpy as np\n",
    "import pandas as pd\n",
    "import requests\n",
    "import re\n",
    "from bs4 import BeautifulSoup\n",
    "from html.parser import HTMLParser\n",
    "import string\n",
    "from selenium import webdriver\n",
    "import html\n",
    "from time import sleep\n",
    "from selenium.common.exceptions import NoSuchElementException\n",
    "from pandas import DataFrame"
   ]
  },
  {
   "cell_type": "code",
   "execution_count": 18,
   "metadata": {},
   "outputs": [],
   "source": [
    "way_driver = \"D:\\Program\\chromedriver.exe\"\n",
    "syte_url = \"https://www.livelib.ru\"\n",
    "readers_info = []\n",
    "books_info = []"
   ]
  },
  {
   "cell_type": "code",
   "execution_count": 7,
   "metadata": {},
   "outputs": [],
   "source": [
    "readers = []\n",
    "for i in range(1, 5):\n",
    "    readers_url = syte_url+\"/readers/rating/listview/wide/~\"+str(i)\n",
    "    readers_html = requests.get(readers_url).text\n",
    "    soup = BeautifulSoup(readers_html, 'html.parser')\n",
    "    readers += list(map(lambda l: l.text, soup.find_all('a', class_='urow-login')))"
   ]
  },
  {
   "cell_type": "code",
   "execution_count": 15,
   "metadata": {},
   "outputs": [],
   "source": [
    "def get_reader_info(driver, reader_name, t_sleep=1):\n",
    "    reader_url = syte_url+\"/reader/\"+reader_name\n",
    "    reader_html = requests.get(reader_url).content\n",
    "    soup = BeautifulSoup(reader_html, 'html.parser')\n",
    "    driver.get(reader_url)\n",
    "    sleep(t_sleep)\n",
    "    result = []\n",
    "    reader_info = {\n",
    "        'login': '0',\n",
    "        'gender': '-',\n",
    "        'rating': '0',\n",
    "        'marks_books': []\n",
    "    }\n",
    "    reader_info['login'] = reader_name\n",
    "    items = driver.find_elements_by_class_name(\"group-row-title\")\n",
    "    for item in items:\n",
    "        s = item.text\n",
    "        if s.find('Пол:') == 0:\n",
    "            reader_info['gender'] = s[5:len(s)]\n",
    "        elif s.find('Рейтинг:') == 0:\n",
    "            reader_info['rating'] = s[9:len(s)]\n",
    "    sleep(t_sleep)\n",
    "    #Прочитанные книги\n",
    "    reader_url = syte_url+\"/reader/\"+reader_name+\"/read\"\n",
    "    reader_html = requests.get(reader_url).content\n",
    "    soup = BeautifulSoup(reader_html, 'html.parser')\n",
    "    driver.get(reader_url)\n",
    "    sleep(t_sleep)\n",
    "    number_item = driver.find_element_by_xpath(\"//*[@class='column-670 subcontainer on-left']\")\n",
    "    s = number_item.text\n",
    "    s_number = ''\n",
    "    i = 0\n",
    "    while (s[i] < '0') or (s[i] > '9'):\n",
    "        i = i + 1\n",
    "    while (s[i] >= '0') and (s[i] <= '9'):\n",
    "        s_number = s_number + s[i]\n",
    "        i = i + 1\n",
    "    number = int(s_number)\n",
    "    number_page = number // 20\n",
    "    if number % 20:\n",
    "        number_page = number_page + 1\n",
    "    for i in range(1, number_page + 1):\n",
    "        reader_url = syte_url+\"/reader/\"+reader_name+\"/read/~\"+str(i)\n",
    "        reader_html = requests.get(reader_url).content\n",
    "        soup = BeautifulSoup(reader_html, 'html.parser')\n",
    "        driver.get(reader_url)\n",
    "        sleep(t_sleep)\n",
    "        items_books = driver.find_elements_by_xpath(\"//*[@class='brow-book-name with-cycle']\")\n",
    "        items_marks = driver.find_elements_by_class_name(\"brow-ratings\")\n",
    "        for item_book, item_mark in zip(items_books, items_marks):\n",
    "            mark_book = {\n",
    "                'href': '',\n",
    "                'mark': '',\n",
    "            }\n",
    "            mark_book['href'] = item_book.get_attribute(\"href\")\n",
    "            s = item_mark.text\n",
    "            s_mark = ''\n",
    "            i = 0\n",
    "            while (s[i] < '0') or (s[i] > '9'):\n",
    "                i = i + 1\n",
    "            while (s[i] >= '0') and (s[i] <= '9'):\n",
    "                s_mark = s_mark + s[i]\n",
    "                i = i + 1\n",
    "            if s[i] == '.':\n",
    "                s_mark = s_mark + s[i]\n",
    "                i = i + 1\n",
    "                while (s[i] >= '0') and (s[i] <= '9'):\n",
    "                    s_mark = s_mark + s[i]\n",
    "                    i = i + 1\n",
    "            mark_book['mark'] = s_mark\n",
    "            reader_info['marks_books'].append(mark_book)\n",
    "    #Рецензии\n",
    "    reader_url = syte_url+\"/reader/\"+reader_name+\"/reviews\"\n",
    "    reader_html = requests.get(reader_url).content\n",
    "    soup = BeautifulSoup(reader_html, 'html.parser')\n",
    "    driver.get(reader_url)\n",
    "    sleep(t_sleep)\n",
    "    number_item = driver.find_element_by_xpath('//*[@style=\"margin-right:50px;\"]')\n",
    "    s = number_item.text\n",
    "    s_number = ''\n",
    "    i = 0\n",
    "    while (s[i] < '0') or (s[i] > '9'):\n",
    "        i = i + 1\n",
    "    while (s[i] >= '0') and (s[i] <= '9'):\n",
    "        s_number = s_number + s[i]\n",
    "        i = i + 1\n",
    "    number = int(s_number)\n",
    "    number_page = number // 25\n",
    "    if number % 25:\n",
    "        number_page = number_page + 1\n",
    "    for i in range(1, number_page + 1):\n",
    "        reader_url = syte_url+\"/reader/\"+reader_name+\"/reviews/~\"+str(i)\n",
    "        reader_html = requests.get(reader_url).content\n",
    "        soup = BeautifulSoup(reader_html, 'html.parser')\n",
    "        driver.get(reader_url)\n",
    "        sleep(t_sleep)\n",
    "        items_books = driver.find_elements_by_class_name(\"book_name\")\n",
    "        items_marks = driver.find_elements_by_class_name(\"rating-book\")\n",
    "        for item_book, item_mark in zip(items_books, items_marks):\n",
    "            mark_book = {\n",
    "                'href': '',\n",
    "                'mark': '',\n",
    "            }\n",
    "            mark_book['href'] = item_book.get_attribute(\"href\")\n",
    "            flag = true\n",
    "            mark_book['mark'] = item_mark.text\n",
    "            for j in reader_info['marks_books']:\n",
    "                if j['href'] == mark_book['href']:\n",
    "                    flag = false\n",
    "            if flag:\n",
    "                reader_info['marks_books'].append(mark_book)\n",
    "    result.append(reader_info)\n",
    "    return result"
   ]
  },
  {
   "cell_type": "code",
   "execution_count": 16,
   "metadata": {},
   "outputs": [
    {
     "name": "stdout",
     "output_type": "stream",
     "text": [
      "[{'login': 'janekukeeva', 'gender': 'женский', 'rating': '618 баллов', 'marks_books': [{'href': 'https://www.livelib.ru/book/1001297574-dzhejn-ejr-sharlotta-bronte', 'mark': '3'}, {'href': 'https://www.livelib.ru/book/1002783459-razrushennyj-dvorets-erin-uatt', 'mark': '3'}, {'href': 'https://www.livelib.ru/book/1002743465-slomlennyj-prints-erin-uatt', 'mark': '3'}, {'href': 'https://www.livelib.ru/book/1002469768-bumazhnaya-printsessa-erin-uatt', 'mark': '4'}, {'href': 'https://www.livelib.ru/book/1000775899-a-zori-zdes-tihie-boris-vasilev', 'mark': '5'}, {'href': 'https://www.livelib.ru/work/1000253728-legkoe-dyhanie-ivan-bunin', 'mark': '2'}, {'href': 'https://www.livelib.ru/book/1002275721-dom-duhov-izabel-alende', 'mark': '3'}, {'href': 'https://www.livelib.ru/book/1002749981-vtoraya-zhizn-uve-fredrik-bakman', 'mark': '4'}, {'href': 'https://www.livelib.ru/book/1000292042-beguschij-za-vetrom-haled-hossejni', 'mark': '4'}, {'href': 'https://www.livelib.ru/book/1000667439-oblasti-tmy-alan-glinn', 'mark': '3'}, {'href': 'https://www.livelib.ru/book/1002802508-vsjo-ta-zhe-ya-dzhodzho-mojes', 'mark': '5'}, {'href': 'https://www.livelib.ru/book/1002783935-deti-moi-guzel-yahina', 'mark': '3'}, {'href': 'https://www.livelib.ru/book/1001387194-dolores-klejborn-stiven-king', 'mark': '3'}, {'href': 'https://www.livelib.ru/book/1001222390-ya-malala-unikalnaya-istoriya-muzhestva-kotoraya-potryasla-ves-mir-malala-yusufzaj', 'mark': '4'}, {'href': 'https://www.livelib.ru/book/1001906987-bruklin-kolm-tojbin', 'mark': '3'}, {'href': 'https://www.livelib.ru/book/1000545603-dobrodetel-egoizma-ajn-rend', 'mark': '3'}, {'href': 'https://www.livelib.ru/book/1001122243-rusalochka-hans-kristian-andersen', 'mark': '4'}, {'href': 'https://www.livelib.ru/book/1001132386-lekarstvo-ot-leni-vladimir-levi', 'mark': '2'}, {'href': 'https://www.livelib.ru/book/1002326428-garri-potter-i-dary-smerti-dzh-k-rouling', 'mark': '5'}, {'href': 'https://www.livelib.ru/book/1000115440-garri-potter-i-printspolukrovka-dzh-k-roling', 'mark': '5'}, {'href': 'https://www.livelib.ru/book/1001136392-garri-potter-i-orden-feniksa-dzhoan-ketlin-rouling', 'mark': '4'}, {'href': 'https://www.livelib.ru/book/1002326233-garri-potter-i-kubok-ognya-dzh-k-rouling', 'mark': '5'}, {'href': 'https://www.livelib.ru/book/1000975611-garri-potter-i-uznik-azkabana-dzhoan-rouling', 'mark': '5'}, {'href': 'https://www.livelib.ru/book/1000773121-kladbische-domashnih-zhivotnyh-stiven-king', 'mark': '4'}, {'href': 'https://www.livelib.ru/book/1000643996-lebedinoe-ozero-bez-avtora', 'mark': '5'}, {'href': 'https://www.livelib.ru/book/1001106595-moskovskaya-saga-kniga-iii-tyurma-i-mir-vasilij-aksenov', 'mark': '4'}, {'href': 'https://www.livelib.ru/book/1001018535-moskovskaya-saga-kniga-ii-vojna-i-tyurma-vasilij-aksenov', 'mark': '4'}, {'href': 'https://www.livelib.ru/book/1001000432-moskovskaya-saga-kniga-i-pokolenie-zimy-vasilij-aksenov', 'mark': '4'}, {'href': 'https://www.livelib.ru/book/1001616521-petr-pervyj-aleksej-tolstoj', 'mark': '4'}, {'href': 'https://www.livelib.ru/work/1000928140-polianna-eleanor-porter', 'mark': '4'}, {'href': 'https://www.livelib.ru/book/1001483077-kruglosutochnyj-knizhnyj-mistera-penumbry-robin-sloun', 'mark': '3'}, {'href': 'https://www.livelib.ru/book/1002050685-chjornaya-kuritsa-ili-podzemnye-zhiteli-pogorelskij-a', 'mark': '3'}, {'href': 'https://www.livelib.ru/book/1000750889-tysyacha-siyayuschih-solnts-haled-hossejni', 'mark': '4'}, {'href': 'https://www.livelib.ru/book/1000710381-ulichnyj-kot-po-imeni-bob-dzhejms-bouen', 'mark': '5'}, {'href': 'https://www.livelib.ru/book/1000710381-ulichnyj-kot-po-imeni-bob-dzhejms-bouen', 'mark': '5'}, {'href': 'https://www.livelib.ru/book/1001446188-posle-tebya-dzhodzho-mojes', 'mark': '3'}, {'href': 'https://www.livelib.ru/book/1000460355-atlant-raspravil-plechi-v-3-chastyah-chast-3-a-est-a-ajn-rend', 'mark': '5'}, {'href': 'https://www.livelib.ru/book/1000460354-atlant-raspravil-plechi-v-3-chastyah-chast-2-iliili-ajn-rend', 'mark': '5'}, {'href': 'https://www.livelib.ru/book/1000448823-atlant-raspravil-plechi-v-3-chastyah-chast-1-neprotivorechie-ajn-rend', 'mark': '5'}, {'href': 'https://www.livelib.ru/book/1001563615-igra-prestolov-dzhordzh-martin', 'mark': '4'}, {'href': 'https://www.livelib.ru/book/1000669388-horoshij-god-piter-mejl', 'mark': '3'}, {'href': 'https://www.livelib.ru/book/1001892442-garri-potter-i-proklyatoe-ditya-chasti-pervaya-i-vtoraya-dzhoan-rouling-dzhek-torn-dzhon-tiffani', 'mark': '2'}, {'href': 'https://www.livelib.ru/book/1001210728-kniga-o-tele', 'mark': '2'}, {'href': 'https://www.livelib.ru/book/1000252687-rita-hejuort-ili-pobeg-iz-shoushenka-stiven-king', 'mark': '3'}, {'href': 'https://www.livelib.ru/book/1001246494-martin-iden-rasskazy-sbornik-dzhek-london', 'mark': '3'}, {'href': 'https://www.livelib.ru/book/1001173596-zulejha-otkryvaet-glaza-guzel-yahina', 'mark': '4'}, {'href': 'https://www.livelib.ru/book/1000530823-grozovoj-pereval-emili-bronte', 'mark': '5'}, {'href': 'https://www.livelib.ru/book/1001389233-dnevnik-bridzhit-dzhons-helen-filding', 'mark': '3'}, {'href': 'https://www.livelib.ru/book/1000665138-do-vstrechi-s-toboj-dzhodzho-mojes', 'mark': '5'}, {'href': 'https://www.livelib.ru/book/1001128580-bud-luchshej-versiej-sebya-kak-obychnye-lyudi-stanovyatsya-vydayuschimisya-den-valdshmidt', 'mark': '5'}, {'href': 'https://www.livelib.ru/book/1000306345-451-po-farengejtu-rej-bredberi', 'mark': '2'}, {'href': 'https://www.livelib.ru/work/1000880821-tri-tovarischa-erih-mariya-remark', 'mark': '4'}, {'href': 'https://www.livelib.ru/book/1001419020-dzen-v-iskusstve-napisaniya-knig-rej-bredberi', 'mark': '5'}, {'href': 'https://www.livelib.ru/book/1001294742-devyat-s-polovinoj-nedel-elizabet-maknill', 'mark': '3'}, {'href': 'https://www.livelib.ru/book/1000767710-knizhnyj-vor-markus-zusak', 'mark': '4'}, {'href': 'https://www.livelib.ru/book/1001097310-moya-ryba-budet-zhit-rut-ozeki', 'mark': '4'}, {'href': 'https://www.livelib.ru/book/1000756784-horosho-byt-tihonej-stiven-chboski', 'mark': '5'}, {'href': 'https://www.livelib.ru/book/1000475313-tajnyj-dnevnik-devushki-po-vyzovu-bell-de-zhur', 'mark': '3'}, {'href': 'https://www.livelib.ru/book/1001479701-na-predele-nedelya-bez-zhalosti-k-sebe-erik-bertran-larssen', 'mark': '3'}, {'href': 'https://www.livelib.ru/book/1000913418-dikaya-opasnoe-puteshestvie-kak-sposob-obresti-sebya-sheril-strejd', 'mark': '5'}, {'href': 'https://www.livelib.ru/book/1000440094-sumerechnaya-saga-sumerki-novolunie-zatmenie-rassvet-sbornik-stefani-majer', 'mark': '5'}, {'href': 'https://www.livelib.ru/book/1000610286-garri-potter-polnaya-kollektsiya-komplekt-iz-7-knig-sbornik-dzhoan-k-rouling', 'mark': '5'}, {'href': 'https://www.livelib.ru/book/1000989924-populyarnost-dnevnik-podrostkaizgoya-staromodnyj-podhod-k-zhizni-majya-van-vejdzhenen', 'mark': '5'}, {'href': 'https://www.livelib.ru/book/1000494281-krestnyj-otets-mario-pyuzo', 'mark': '5'}, {'href': 'https://www.livelib.ru/book/1001136146-unesennye-vetrom-margaret-mitchell', 'mark': '5'}, {'href': 'https://www.livelib.ru/book/1000756784-horosho-byt-tihonej-stiven-chboski', 'mark': '5'}, {'href': 'https://www.livelib.ru/book/1000713777-vino-iz-oduvanchikov-rej-bredberi', 'mark': '4'}, {'href': 'https://www.livelib.ru/book/1001126888-pyatdesyat-ottenkov-serogo-e-l-dzhejms', 'mark': '5'}, {'href': 'https://www.livelib.ru/book/1001134510-malenkij-prints-planeta-lyudej-sbornik-antuan-de-sentekzyuperi', 'mark': '4'}, {'href': 'https://www.livelib.ru/book/1001282172-mir-glazami-kota-boba-dzhejms-bouen', 'mark': '5'}, {'href': 'https://www.livelib.ru/book/1000945494-malahitovaya-shkatulka-uralskie-skazy-sbornik-pavel-bazhov', 'mark': '5'}, {'href': 'https://www.livelib.ru/book/1000318748-norvezhskij-les-haruki-murakami', 'mark': '5'}, {'href': 'https://www.livelib.ru/book/1000968558-vazhnye-gody-pochemu-ne-stoit-otkladyvat-zhizn-na-potom-meg-dzhej', 'mark': '4'}, {'href': 'https://www.livelib.ru/book/1000018972-bogatyj-papa-bednyj-papa-robert-t-kijosaki-sheron-l-lekter', 'mark': '4'}, {'href': 'https://www.livelib.ru/book/1000958505-slushaj-pesnyu-vetra-haruki-murakami', 'mark': '3'}, {'href': 'https://www.livelib.ru/book/1000627499-moj-lyubimyj-sputnik-haruki-murakami', 'mark': '4'}, {'href': 'https://www.livelib.ru/book/1000744033-robinzon-kruzo-daniel-defo', 'mark': '4'}, {'href': 'https://www.livelib.ru/book/1001418933-vinovaty-zvezdy-dzhon-grin', 'mark': '4'}]}]\n"
     ]
    }
   ],
   "source": [
    "with webdriver.Chrome(way_driver) as driver:\n",
    "    print(get_reader_info(driver, 'janekukeeva', 2))"
   ]
  },
  {
   "cell_type": "code",
   "execution_count": null,
   "metadata": {},
   "outputs": [],
   "source": [
    "with webdriver.Chrome(way_driver) as driver:\n",
    "    for reader in readers:\n",
    "        result = get_reader_info(driver, reader, 2)"
   ]
  },
  {
   "cell_type": "code",
   "execution_count": null,
   "metadata": {},
   "outputs": [],
   "source": []
  }
 ],
 "metadata": {
  "kernelspec": {
   "display_name": "Python 3",
   "language": "python",
   "name": "python3"
  },
  "language_info": {
   "codemirror_mode": {
    "name": "ipython",
    "version": 3
   },
   "file_extension": ".py",
   "mimetype": "text/x-python",
   "name": "python",
   "nbconvert_exporter": "python",
   "pygments_lexer": "ipython3",
   "version": "3.7.0"
  }
 },
 "nbformat": 4,
 "nbformat_minor": 2
}
